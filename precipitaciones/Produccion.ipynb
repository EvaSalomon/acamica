{
 "cells": [
  {
   "cell_type": "code",
   "execution_count": 2,
   "metadata": {},
   "outputs": [],
   "source": [
    "# Importar bibliotecas en esta celda\n",
    "import numpy as np\n",
    "import pandas as pd\n",
    "import matplotlib.pylab as plt\n",
    "import seaborn as sns"
   ]
  },
  {
   "cell_type": "code",
   "execution_count": 3,
   "metadata": {},
   "outputs": [],
   "source": [
    "# La siguiente línea es para ver las imagenes dentro del notebook\n",
    "%matplotlib inline\n",
    "# Acá configuramos el tamaño de las figuras\n",
    "plt.rcParams['figure.figsize'] = (12,8)\n",
    "# Seteamos opciones de pandas sobre las columnas y su ancho\n",
    "pd.set_option('max_columns', 120)\n",
    "pd.set_option('max_colwidth', 5000)"
   ]
  },
  {
   "cell_type": "code",
   "execution_count": 4,
   "metadata": {},
   "outputs": [
    {
     "data": {
      "text/html": [
       "<div>\n",
       "<style scoped>\n",
       "    .dataframe tbody tr th:only-of-type {\n",
       "        vertical-align: middle;\n",
       "    }\n",
       "\n",
       "    .dataframe tbody tr th {\n",
       "        vertical-align: top;\n",
       "    }\n",
       "\n",
       "    .dataframe thead th {\n",
       "        text-align: right;\n",
       "    }\n",
       "</style>\n",
       "<table border=\"1\" class=\"dataframe\">\n",
       "  <thead>\n",
       "    <tr style=\"text-align: right;\">\n",
       "      <th></th>\n",
       "      <th>provincia_id</th>\n",
       "      <th>nom_provincia</th>\n",
       "      <th>departamento_id</th>\n",
       "      <th>nom_depto</th>\n",
       "      <th>cultivo_id</th>\n",
       "      <th>nom_cultivo</th>\n",
       "      <th>campaña_id</th>\n",
       "      <th>campaña</th>\n",
       "      <th>sup_sembrada (hectareas)</th>\n",
       "      <th>sup_cosechada(hectarea)</th>\n",
       "      <th>produccion (toneladas)</th>\n",
       "      <th>rendimiento (kg /ha)</th>\n",
       "    </tr>\n",
       "  </thead>\n",
       "  <tbody>\n",
       "    <tr>\n",
       "      <th>0</th>\n",
       "      <td>6</td>\n",
       "      <td>BUENOS AIRES</td>\n",
       "      <td>854</td>\n",
       "      <td>25 DE MAYO</td>\n",
       "      <td>1</td>\n",
       "      <td>Ajo</td>\n",
       "      <td>1</td>\n",
       "      <td>1969/1970</td>\n",
       "      <td>3.0</td>\n",
       "      <td>3.0</td>\n",
       "      <td>10</td>\n",
       "      <td>3.333</td>\n",
       "    </tr>\n",
       "    <tr>\n",
       "      <th>1</th>\n",
       "      <td>6</td>\n",
       "      <td>BUENOS AIRES</td>\n",
       "      <td>14</td>\n",
       "      <td>ADOLFO GONZALES CHAVES</td>\n",
       "      <td>1</td>\n",
       "      <td>Ajo</td>\n",
       "      <td>1</td>\n",
       "      <td>1969/1970</td>\n",
       "      <td>15.0</td>\n",
       "      <td>15.0</td>\n",
       "      <td>82</td>\n",
       "      <td>5.467</td>\n",
       "    </tr>\n",
       "    <tr>\n",
       "      <th>2</th>\n",
       "      <td>6</td>\n",
       "      <td>BUENOS AIRES</td>\n",
       "      <td>21</td>\n",
       "      <td>ALBERTI</td>\n",
       "      <td>1</td>\n",
       "      <td>Ajo</td>\n",
       "      <td>1</td>\n",
       "      <td>1969/1970</td>\n",
       "      <td>5.0</td>\n",
       "      <td>5.0</td>\n",
       "      <td>7</td>\n",
       "      <td>1.400</td>\n",
       "    </tr>\n",
       "    <tr>\n",
       "      <th>3</th>\n",
       "      <td>6</td>\n",
       "      <td>BUENOS AIRES</td>\n",
       "      <td>28</td>\n",
       "      <td>ALMIRANTE BROWN</td>\n",
       "      <td>1</td>\n",
       "      <td>Ajo</td>\n",
       "      <td>1</td>\n",
       "      <td>1969/1970</td>\n",
       "      <td>2.0</td>\n",
       "      <td>2.0</td>\n",
       "      <td>8</td>\n",
       "      <td>4.000</td>\n",
       "    </tr>\n",
       "    <tr>\n",
       "      <th>4</th>\n",
       "      <td>6</td>\n",
       "      <td>BUENOS AIRES</td>\n",
       "      <td>77</td>\n",
       "      <td>ARRECIFES</td>\n",
       "      <td>1</td>\n",
       "      <td>Ajo</td>\n",
       "      <td>1</td>\n",
       "      <td>1969/1970</td>\n",
       "      <td>6.0</td>\n",
       "      <td>6.0</td>\n",
       "      <td>15</td>\n",
       "      <td>2.500</td>\n",
       "    </tr>\n",
       "  </tbody>\n",
       "</table>\n",
       "</div>"
      ],
      "text/plain": [
       "   provincia_id nom_provincia  departamento_id               nom_depto  \\\n",
       "0             6  BUENOS AIRES              854              25 DE MAYO   \n",
       "1             6  BUENOS AIRES               14  ADOLFO GONZALES CHAVES   \n",
       "2             6  BUENOS AIRES               21                 ALBERTI   \n",
       "3             6  BUENOS AIRES               28         ALMIRANTE BROWN   \n",
       "4             6  BUENOS AIRES               77               ARRECIFES   \n",
       "\n",
       "   cultivo_id nom_cultivo  campaña_id    campaña  sup_sembrada (hectareas)  \\\n",
       "0           1         Ajo           1  1969/1970                       3.0   \n",
       "1           1         Ajo           1  1969/1970                      15.0   \n",
       "2           1         Ajo           1  1969/1970                       5.0   \n",
       "3           1         Ajo           1  1969/1970                       2.0   \n",
       "4           1         Ajo           1  1969/1970                       6.0   \n",
       "\n",
       "   sup_cosechada(hectarea) produccion (toneladas)  rendimiento (kg /ha)  \n",
       "0                      3.0                     10                 3.333  \n",
       "1                     15.0                     82                 5.467  \n",
       "2                      5.0                      7                 1.400  \n",
       "3                      2.0                      8                 4.000  \n",
       "4                      6.0                     15                 2.500  "
      ]
     },
     "execution_count": 4,
     "metadata": {},
     "output_type": "execute_result"
    }
   ],
   "source": [
    "df = pd.read_csv('./estimaciones.csv', parse_dates=True,delimiter=';', encoding='iso-8859-1')\n",
    "df.head()"
   ]
  },
  {
   "cell_type": "code",
   "execution_count": 5,
   "metadata": {},
   "outputs": [],
   "source": [
    "df_maiz = df.loc[(df.nom_cultivo == 'Maiz') & (df.nom_depto == 'PUAN')]"
   ]
  },
  {
   "cell_type": "code",
   "execution_count": 8,
   "metadata": {},
   "outputs": [
    {
     "name": "stdout",
     "output_type": "stream",
     "text": [
      "<class 'pandas.core.frame.DataFrame'>\n",
      "Int64Index: 48 entries, 2274 to 131736\n",
      "Data columns (total 12 columns):\n",
      "provincia_id                48 non-null int64\n",
      "nom_provincia               48 non-null object\n",
      "departamento_id             48 non-null int64\n",
      "nom_depto                   48 non-null object\n",
      "cultivo_id                  48 non-null int64\n",
      "nom_cultivo                 48 non-null object\n",
      "campaña_id                  48 non-null int64\n",
      "campaña                     48 non-null object\n",
      "sup_sembrada (hectareas)    48 non-null float64\n",
      "sup_cosechada(hectarea)     48 non-null float64\n",
      "produccion (toneladas)      48 non-null object\n",
      "rendimiento (kg /ha)        48 non-null float64\n",
      "dtypes: float64(3), int64(4), object(5)\n",
      "memory usage: 4.9+ KB\n"
     ]
    }
   ],
   "source": [
    "df_maiz.info()"
   ]
  }
 ],
 "metadata": {
  "kernelspec": {
   "display_name": "Python 3",
   "language": "python",
   "name": "python3"
  },
  "language_info": {
   "codemirror_mode": {
    "name": "ipython",
    "version": 3
   },
   "file_extension": ".py",
   "mimetype": "text/x-python",
   "name": "python",
   "nbconvert_exporter": "python",
   "pygments_lexer": "ipython3",
   "version": "3.7.0"
  }
 },
 "nbformat": 4,
 "nbformat_minor": 2
}
