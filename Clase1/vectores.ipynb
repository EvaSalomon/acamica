{
 "cells": [
  {
   "cell_type": "code",
   "execution_count": 1,
   "metadata": {},
   "outputs": [],
   "source": [
    "import pandas as pd\n",
    "import numpy as np"
   ]
  },
  {
   "cell_type": "code",
   "execution_count": 11,
   "metadata": {},
   "outputs": [
    {
     "name": "stdout",
     "output_type": "stream",
     "text": [
      "[[1 2 3]\n",
      " [1 2 3]\n",
      " [1 2 3]]\n"
     ]
    }
   ],
   "source": [
    "vector = np.array([[1,2,3],[4,5,6],[7,8,9]])\n",
    "print(vector)"
   ]
  },
  {
   "cell_type": "code",
   "execution_count": 15,
   "metadata": {},
   "outputs": [
    {
     "name": "stdout",
     "output_type": "stream",
     "text": [
      "(3, 3)\n",
      "2\n"
     ]
    }
   ],
   "source": [
    "print(vector.shape)\n",
    "print(vector[0,1])"
   ]
  },
  {
   "cell_type": "markdown",
   "metadata": {},
   "source": [
    ".shape para conocer las dimesiones de la matriz\n",
    ".reshape podemos redimensionar una matriz. Una de 3x3 puede pasar a ser de una dimension de 9 indices."
   ]
  },
  {
   "cell_type": "code",
   "execution_count": 23,
   "metadata": {},
   "outputs": [
    {
     "name": "stdout",
     "output_type": "stream",
     "text": [
      "(8,)\n",
      "[1 2 3 4 5 6 7 8]\n",
      "(2, 4)\n",
      "[[1 2 3 4]\n",
      " [5 6 7 8]]\n"
     ]
    }
   ],
   "source": [
    "numeros = np.array([1,2,3,4,5,6,7,8])\n",
    "print(numeros.shape)\n",
    "print(numeros)\n",
    "\n",
    "numeros2 = numeros.reshape((2,4))\n",
    "print(numeros2.shape)\n",
    "print(numeros2)"
   ]
  },
  {
   "cell_type": "code",
   "execution_count": 3,
   "metadata": {},
   "outputs": [],
   "source": [
    "df = pd.read_csv('marathon_results_2017.csv')"
   ]
  },
  {
   "cell_type": "code",
   "execution_count": 4,
   "metadata": {},
   "outputs": [
    {
     "name": "stdout",
     "output_type": "stream",
     "text": [
      "       Unnamed: 0    Bib                      Name  Age M/F              City  \\\n",
      "0               0     11           Kirui, Geoffrey   24   M          Keringet   \n",
      "1               1     17               Rupp, Galen   30   M          Portland   \n",
      "2               2     23             Osako, Suguru   25   M      Machida-City   \n",
      "3               3     21          Biwott, Shadrack   32   M     Mammoth Lakes   \n",
      "4               4      9            Chebet, Wilson   31   M          Marakwet   \n",
      "5               5     15          Abdirahman, Abdi   40   M           Phoenix   \n",
      "6               6     63        Maiyo, Augustus K.   33   M  Colorado Springs   \n",
      "7               7      7               Sefir, Dino   28   M       Addis Ababa   \n",
      "8               8     18            Puskedra, Luke   27   M            Eugene   \n",
      "9               9     20               Ward, Jared   28   M         Kaysville   \n",
      "10             10     22             Quigley, Sean   32   M         Braintree   \n",
      "11             11      6            Tsegay, Yemane   32   M       Addis Ababa   \n",
      "12             12     14           Keflezighi, Meb   41   M         San Diego   \n",
      "13             13     16         Nyasango, Cutbert   34   M            Harara   \n",
      "14             14     10             Korir, Wesley   34   M            Kitale   \n",
      "15             15     35          Puzey, Thomas R.   32   M         Flagstaff   \n",
      "16             16     76             Kisri, Rachid   41   M  Briarcliff Manor   \n",
      "17             17      3           Mutai, Emmanuel   32   M            Lessos   \n",
      "18             18     30           Ndhlovu, Pardon   29   M             Vilas   \n",
      "19             19     31             Harvey, Brian   29   M            Boston   \n",
      "20             20     F3            Kiplagat, Edna   37   F       Uasin Gishu   \n",
      "21             21     81  Chipsiya, Christopher K.   42   M         Zacatecas   \n",
      "22             22    101             Mindel, Scott   30   M         Arlington   \n",
      "23             23    F11             Chelimo, Rose   27   F            Manama   \n",
      "24             24    F23             Hasay, Jordan   25   F         Beaverton   \n",
      "25             25    182             Place, Ryan J   31   M         Cambridge   \n",
      "26             26     33            Humphrey, Luke   36   M     Beverly Hills   \n",
      "27             27     28                Ashe, Eric   28   M            Boston   \n",
      "28             28     53    Thompson, Christian C.   28   M       Chattanooga   \n",
      "29             29     43          Maravilla, Jorge   39   M       Mill Valley   \n",
      "...           ...    ...                       ...  ...  ..               ...   \n",
      "26380       26380  25779       Nijensohn, Lynda A.   42   F         Wellesley   \n",
      "26381       26381  24894        Staveley, Patricia   60   F           Calgary   \n",
      "26382       26382  23144             Fong, Sut Sam   48   F         Hong Kong   \n",
      "26383       26383  25182               Trang, Danh   30   M     San Francisco   \n",
      "26384       26384  26163         Prario, Austin D.   19   M        Mapleville   \n",
      "26385       26385  26889        Welch, Jennifer E.   37   F            Boston   \n",
      "26386       26386  26873             Wolff, Eli A.   39   M            Newton   \n",
      "26387       26387  23458        Pulido, Jose I Sr.   66   M            Bogota   \n",
      "26388       26388  25179            Solberg, Bryon   55   M         San Diego   \n",
      "26389       26389  25265            Picard, Hector   50   M   Fort Lauderdale   \n",
      "26390       26390  28988            Taylor, Robert   56   M     Ft Lauderdale   \n",
      "26391       26391   6893             Ueda, Akifumi   58   M        Himeji-Shi   \n",
      "26392       26392  10603           Ferry, J. Alain   45   M            Boston   \n",
      "26393       26393  27054        Weisberg, Scott R.   47   M        Birmingham   \n",
      "26394       26394   6170           Morris, Sheldon   44   M        Springhill   \n",
      "26395       26395   4631            Choon Hon, Lim   33   M         Singapore   \n",
      "26396       26396  25262        Caesar, Candice L.   44   F            Fresno   \n",
      "26397       26397  15536        Coffman, Steven D.   69   M     East Sandwich   \n",
      "26398       26398  14851           Scholtz, Theo E   70   M             Wylie   \n",
      "26399       26399  25263            Luckett, Kelly   49   F          Savannah   \n",
      "26400       26400   2605         Mederos, Jonathan   32   M       South Miami   \n",
      "26401       26401  15547       Elliott, Gregory J.   68   M           Chicago   \n",
      "26402       26402   3070       Galbraith, Jordan M   30   M          Cardston   \n",
      "26403       26403  31283          Leroy, Stefan M.   25   M           Jupiter   \n",
      "26404       26404  25141            Quinn, Adam H.   19   M           Belmont   \n",
      "26405       26405  25166  Steinbach, Paula Eyvonne   61   F           Ontario   \n",
      "26406       26406  25178        Avelino, Andrew R.   25   M      Fayetteville   \n",
      "26407       26407  27086           Hantel, Johanna   57   F           Malvern   \n",
      "26408       26408  25268              Reilly, Bill   64   M          New York   \n",
      "26409       26409  25266             Rigsby, Scott   48   M        Alpharetta   \n",
      "\n",
      "      State Country Citizen Unnamed: 9   ...         25K      30K      35K  \\\n",
      "0       NaN     KEN     NaN        NaN   ...     1:16:59  1:33:01  1:48:19   \n",
      "1        OR     USA     NaN        NaN   ...     1:16:59  1:33:01  1:48:19   \n",
      "2       NaN     JPN     NaN        NaN   ...     1:17:00  1:33:01  1:48:31   \n",
      "3        CA     USA     NaN        NaN   ...     1:17:00  1:33:01  1:48:58   \n",
      "4       NaN     KEN     NaN        NaN   ...     1:16:59  1:33:01  1:48:41   \n",
      "5        AZ     USA     NaN        NaN   ...     1:16:59  1:33:01  1:48:52   \n",
      "6        CO     USA     NaN        NaN   ...     1:17:00  1:33:01  1:49:06   \n",
      "7       NaN     ETH     NaN        NaN   ...     1:18:36  1:34:52  1:51:11   \n",
      "8        OR     USA     NaN        NaN   ...     1:17:26  1:34:05  1:50:53   \n",
      "9        UT     USA     NaN        NaN   ...     1:17:17  1:33:49  1:50:44   \n",
      "10       MA     USA     NaN        NaN   ...     1:18:20  1:34:58  1:51:55   \n",
      "11      NaN     ETH     NaN        NaN   ...     1:17:30  1:34:33  1:52:00   \n",
      "12       CA     USA     NaN        NaN   ...     1:17:43  1:34:43  1:51:57   \n",
      "13      NaN     ZIM     NaN        NaN   ...     1:19:54  1:36:39  1:53:55   \n",
      "14      NaN     KEN     NaN        NaN   ...     1:17:08  1:34:17  1:51:50   \n",
      "15       AZ     USA     NaN        NaN   ...     1:22:17  1:38:51  1:55:17   \n",
      "16       NY     USA     MAR        NaN   ...     1:18:20  1:35:33  1:53:10   \n",
      "17      NaN     KEN     NaN        NaN   ...     1:16:59  1:33:24  1:51:32   \n",
      "18       NC     USA     ZIM        NaN   ...     1:19:53  1:36:38  1:53:54   \n",
      "19       MA     USA     NaN        NaN   ...     1:21:45  1:38:34  1:55:48   \n",
      "20      NaN     KEN     NaN        NaN   ...     1:25:51  1:42:40  1:58:41   \n",
      "21      NaN     MEX     KEN        NaN   ...     1:18:40  1:36:43  1:55:52   \n",
      "22       MA     USA     NaN        NaN   ...     1:23:19  1:40:09  1:57:20   \n",
      "23      NaN     BRN     NaN        NaN   ...     1:25:50  1:42:40  1:59:15   \n",
      "24       OR     USA     NaN        NaN   ...     1:25:51  1:42:41  1:59:26   \n",
      "25       MA     USA     NaN        NaN   ...     1:23:13  1:40:12  1:57:40   \n",
      "26       MI     USA     NaN        NaN   ...     1:22:32  1:39:45  1:57:41   \n",
      "27       MA     USA     NaN        NaN   ...     1:23:29  1:40:14  1:57:24   \n",
      "28       TN     USA     NaN        NaN   ...     1:23:23  1:40:53  1:58:45   \n",
      "29       CA     USA     NaN        NaN   ...     1:24:35  1:42:05  1:59:45   \n",
      "...     ...     ...     ...        ...   ...         ...      ...      ...   \n",
      "26380    MA     USA     NaN        NaN   ...     3:04:43  3:58:21  4:55:14   \n",
      "26381    AB     CAN     NaN        NaN   ...     3:19:46  4:09:29  5:07:11   \n",
      "26382   NaN     HKG     NaN        NaN   ...     3:37:13  4:25:58  5:12:27   \n",
      "26383    CA     USA     NaN         MI   ...     3:13:32  4:14:48  5:06:21   \n",
      "26384    RI     USA     NaN        NaN   ...     3:16:52  4:04:45  5:00:40   \n",
      "26385    MA     USA     NaN        NaN   ...     3:22:39  4:15:26  5:07:51   \n",
      "26386    MA     USA     NaN         MI   ...     3:22:41  4:15:28  5:07:54   \n",
      "26387   NaN     COL     NaN        NaN   ...     3:11:21  4:05:10  5:01:15   \n",
      "26388    CA     USA     NaN         MI   ...     3:37:18  4:21:50  5:10:04   \n",
      "26389    FL     USA     NaN         MI   ...     3:31:52  4:19:22  5:10:30   \n",
      "26390    FL     USA     NaN        NaN   ...     3:32:05  4:19:45  5:10:26   \n",
      "26391   NaN     JPN     NaN        NaN   ...     3:12:18  4:04:39  5:00:22   \n",
      "26392    MA     USA     NaN        NaN   ...     3:48:42  4:37:42  5:23:30   \n",
      "26393    AL     USA     NaN        NaN   ...     3:28:17  4:18:15  5:14:52   \n",
      "26394    NS     CAN     NaN        NaN   ...     3:48:47  4:37:56  5:25:39   \n",
      "26395   NaN     SIN     NaN        NaN   ...     3:43:59  4:34:10  5:22:42   \n",
      "26396    TX     USA     NaN         MI   ...     3:43:32  4:37:51  5:31:18   \n",
      "26397    MA     USA     NaN        NaN   ...     3:46:48  4:43:52  5:37:23   \n",
      "26398    TX     USA     NaN        NaN   ...     3:13:55  4:14:09  5:25:19   \n",
      "26399    GA     USA     NaN         MI   ...     3:55:50  4:47:35  5:38:32   \n",
      "26400    FL     USA     NaN        NaN   ...     2:03:34  2:47:11  5:45:51   \n",
      "26401    IL     USA     NaN        NaN   ...     3:44:08  4:41:33  5:42:35   \n",
      "26402    AB     CAN     NaN        NaN   ...     3:01:58  4:29:41  5:28:30   \n",
      "26403    FL     USA     NaN         MI   ...     3:53:06  4:49:40  5:42:51   \n",
      "26404    MI     USA     NaN         MI   ...     4:01:11  4:42:59  5:33:15   \n",
      "26405    CA     USA     NaN         MI   ...     4:12:06  5:03:08  5:55:18   \n",
      "26406    NC     USA     NaN         MI   ...     3:50:19  4:50:01  5:53:48   \n",
      "26407    PA     USA     NaN        NaN   ...     4:15:21  5:06:37  6:00:33   \n",
      "26408    NY     USA     NaN         MI   ...     4:06:10  5:07:09  6:06:07   \n",
      "26409    GA     USA     NaN         MI   ...     4:27:14  5:37:13  6:39:07   \n",
      "\n",
      "           40K     Pace Proj Time Official Time Overall Gender Division  \n",
      "0      2:02:53  0:04:57         -       2:09:37       1      1        1  \n",
      "1      2:03:14  0:04:58         -       2:09:58       2      2        2  \n",
      "2      2:03:38  0:04:59         -       2:10:28       3      3        3  \n",
      "3      2:04:35  0:05:03         -       2:12:08       4      4        4  \n",
      "4      2:05:00  0:05:04         -       2:12:35       5      5        5  \n",
      "5      2:05:21  0:05:04         -       2:12:45       6      6        1  \n",
      "6      2:05:41  0:05:05         -       2:13:16       7      7        6  \n",
      "7      2:07:09  0:05:08         -       2:14:26       8      8        7  \n",
      "8      2:07:17  0:05:09         -       2:14:45       9      9        8  \n",
      "9      2:07:54  0:05:11         -       2:15:28      10     10        9  \n",
      "10     2:08:10  0:05:11         -       2:15:34      11     11       10  \n",
      "11     2:08:57  0:05:14         -       2:16:47      12     12       11  \n",
      "12     2:09:09  0:05:14         -       2:17:00      13     13        2  \n",
      "13     2:10:20  0:05:16         -       2:17:40      14     14       12  \n",
      "14     2:09:58  0:05:17         -       2:18:14      15     15       13  \n",
      "15     2:11:14  0:05:17         -       2:18:20      16     16       14  \n",
      "16     2:10:36  0:05:18         -       2:18:32      17     17        3  \n",
      "17     2:10:44  0:05:20         -       2:19:33      18     18       15  \n",
      "18     2:11:36  0:05:21         -       2:20:12      19     19       16  \n",
      "19     2:12:51  0:05:22         -       2:20:18      20     20       17  \n",
      "20     2:14:43  0:05:25         -       2:21:52      21      1        1  \n",
      "21     2:14:15  0:05:26         -       2:22:20      22     21        4  \n",
      "22     2:14:34  0:05:27         -       2:22:32      23     22       18  \n",
      "23     2:15:42  0:05:27         -       2:22:51      24      2        2  \n",
      "24     2:15:54  0:05:28         -       2:23:00      25      3        3  \n",
      "25     2:15:14  0:05:28         -       2:23:05      26     23       19  \n",
      "26     2:15:14  0:05:28         -       2:23:12      27     24       20  \n",
      "27     2:15:27  0:05:29         -       2:23:26      28     25       21  \n",
      "28     2:16:07  0:05:30         -       2:23:51      29     26       22  \n",
      "29     2:16:21  0:05:31         -       2:24:27      30     27       23  \n",
      "...        ...      ...       ...           ...     ...    ...      ...  \n",
      "26380  5:47:30  0:14:06         -       6:09:38   26382  11966     1853  \n",
      "26381  5:51:19  0:14:08         -       6:10:19   26383  11967      343  \n",
      "26382  5:55:04  0:14:15         -       6:13:26   26384  11968     1862  \n",
      "26383  5:56:00  0:14:15         -       6:13:26   26385  14417     4766  \n",
      "26384  5:54:44  0:14:17         -       6:14:05   26386  14418     4767  \n",
      "26385  5:55:05  0:14:21         -       6:16:04   26387  11969     5846  \n",
      "26386  5:55:08  0:14:21         -       6:16:05   26388  14419     4768  \n",
      "26387  5:52:45  0:14:23         -       6:16:50   26389  14420      424  \n",
      "26388  5:56:53  0:14:23         -       6:16:56   26390  14421     1535  \n",
      "26389  6:01:43  0:14:35         -       6:22:13   26391  14422     1945  \n",
      "26390  6:02:15  0:14:35         -       6:22:13   26392  14423     1536  \n",
      "26391  5:56:59  0:14:39         -       6:24:03   26393  14424     1537  \n",
      "26392  6:07:21  0:14:45         -       6:26:31   26394  14425     2551  \n",
      "26393  6:06:43  0:14:47         -       6:27:10   26395  14426     2552  \n",
      "26394  6:15:15  0:15:00         -       6:33:04   26396  14427     1988  \n",
      "26395  6:11:55  0:15:11         -       6:37:48   26397  14428     4769  \n",
      "26396  6:18:21  0:15:12         -       6:38:25   26398  11970     1854  \n",
      "26397  6:24:02  0:15:21         -       6:42:04   26399  14429      425  \n",
      "26398  6:20:56  0:15:27         -       6:44:49   26400  14430      138  \n",
      "26399  6:25:56  0:15:31         -       6:46:30   26401  11971     1863  \n",
      "26400  6:27:22  0:15:32         -       6:47:14   26402  14431     4770  \n",
      "26401  6:31:28  0:15:40         -       6:50:35   26403  14432      426  \n",
      "26402  6:27:28  0:15:44         -       6:52:10   26404  14433     4771  \n",
      "26403  6:34:28  0:15:53         -       6:56:11   26405  14434     4772  \n",
      "26404  6:42:51  0:16:12         -       7:04:33   26406  14435     4773  \n",
      "26405  6:46:57  0:16:24         -       7:09:39   26407  11972      344  \n",
      "26406  6:54:21  0:16:40         -       7:16:59   26408  14436     4774  \n",
      "26407  6:54:38  0:16:47         -       7:19:37   26409  11973      698  \n",
      "26408  6:56:08  0:16:49         -       7:20:44   26410  14437     1043  \n",
      "26409  7:41:23  0:18:15         -       7:58:14   26411  14438     2553  \n",
      "\n",
      "[26410 rows x 25 columns]\n"
     ]
    }
   ],
   "source": [
    "print(df)"
   ]
  }
 ],
 "metadata": {
  "kernelspec": {
   "display_name": "Python 3",
   "language": "python",
   "name": "python3"
  },
  "language_info": {
   "codemirror_mode": {
    "name": "ipython",
    "version": 3
   },
   "file_extension": ".py",
   "mimetype": "text/x-python",
   "name": "python",
   "nbconvert_exporter": "python",
   "pygments_lexer": "ipython3",
   "version": "3.7.0"
  }
 },
 "nbformat": 4,
 "nbformat_minor": 2
}
