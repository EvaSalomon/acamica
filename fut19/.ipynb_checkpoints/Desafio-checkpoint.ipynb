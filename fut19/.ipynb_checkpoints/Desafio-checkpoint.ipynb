{
 "cells": [
  {
   "cell_type": "code",
   "execution_count": 16,
   "metadata": {},
   "outputs": [],
   "source": [
    "import matplotlib.pyplot as plt\n",
    "%matplotlib inline\n",
    "import seaborn as sns\n",
    "import pandas as pd\n",
    "import numpy as np\n",
    "\n",
    "pd.set_option('display.max_colwidth', -1) \n",
    "\n",
    "sns.set_style(\"whitegrid\")\n",
    "sns.set_context(\"paper\")\n",
    "\n",
    "plt.rcParams['figure.figsize'] = (20,10)"
   ]
  },
  {
   "cell_type": "code",
   "execution_count": 17,
   "metadata": {},
   "outputs": [
    {
     "name": "stderr",
     "output_type": "stream",
     "text": [
      "/home/carloscba/anaconda3/lib/python3.7/site-packages/IPython/core/interactiveshell.py:2785: DtypeWarning: Columns (75,76,77,78) have mixed types. Specify dtype option on import or set low_memory=False.\n",
      "  interactivity=interactivity, compiler=compiler, result=result)\n"
     ]
    }
   ],
   "source": [
    "df = pd.read_csv('./data/fut19.csv')"
   ]
  },
  {
   "cell_type": "code",
   "execution_count": 18,
   "metadata": {},
   "outputs": [
    {
     "data": {
      "text/plain": [
       "Index(['player_ID', 'player_name', 'player_extended_name', 'quality',\n",
       "       'revision', 'origin', 'overall', 'club', 'league', 'nationality',\n",
       "       'position', 'age', 'date_of_birth', 'height', 'weight', 'intl_rep',\n",
       "       'added_date', 'pace', 'pace_acceleration', 'pace_sprint_speed',\n",
       "       'dribbling', 'drib_agility', 'drib_balance', 'drib_reactions',\n",
       "       'drib_ball_control', 'drib_dribbling', 'drib_composure', 'shooting',\n",
       "       'shoot_positioning', 'shoot_finishing', 'shoot_shot_power',\n",
       "       'shoot_long_shots', 'shoot_volleys', 'shoot_penalties', 'passing',\n",
       "       'pass_vision', 'pass_crossing', 'pass_free_kick', 'pass_short',\n",
       "       'pass_long', 'pass_curve', 'defending', 'def_interceptions',\n",
       "       'def_heading', 'def_marking', 'def_stand_tackle', 'def_slid_tackle',\n",
       "       'physicality', 'phys_jumping', 'phys_stamina', 'phys_strength',\n",
       "       'phys_aggression', 'gk_diving', 'gk_reflexes', 'gk_handling',\n",
       "       'gk_speed', 'gk_kicking', 'gk_positoning', 'pref_foot', 'att_workrate',\n",
       "       'def_workrate', 'weak_foot', 'skill_moves', 'cb', 'rb', 'lb', 'rwb',\n",
       "       'lwb', 'cdm', 'cm', 'rm', 'lm', 'cam', 'cf', 'rf', 'lf', 'rw', 'lw',\n",
       "       'st', 'price_ps4', 'price_xbox', 'price_pc', 'traits', 'specialties'],\n",
       "      dtype='object')"
      ]
     },
     "execution_count": 18,
     "metadata": {},
     "output_type": "execute_result"
    }
   ],
   "source": [
    "df.columns"
   ]
  },
  {
   "cell_type": "code",
   "execution_count": 28,
   "metadata": {},
   "outputs": [
    {
     "data": {
      "text/plain": [
       "array(['Gold - Rare', 'Gold', 'Silver - Rare', 'Silver', 'Bronze - Rare',\n",
       "       'Bronze'], dtype=object)"
      ]
     },
     "execution_count": 28,
     "metadata": {},
     "output_type": "execute_result"
    }
   ],
   "source": [
    "df.quality.unique()"
   ]
  },
  {
   "cell_type": "code",
   "execution_count": 19,
   "metadata": {},
   "outputs": [],
   "source": [
    "leaguesMean = df.loc[:,['league','price_xbox','overall']].groupby(['league']).mean()"
   ]
  },
  {
   "cell_type": "code",
   "execution_count": 20,
   "metadata": {},
   "outputs": [
    {
     "data": {
      "text/html": [
       "<div>\n",
       "<style scoped>\n",
       "    .dataframe tbody tr th:only-of-type {\n",
       "        vertical-align: middle;\n",
       "    }\n",
       "\n",
       "    .dataframe tbody tr th {\n",
       "        vertical-align: top;\n",
       "    }\n",
       "\n",
       "    .dataframe thead th {\n",
       "        text-align: right;\n",
       "    }\n",
       "</style>\n",
       "<table border=\"1\" class=\"dataframe\">\n",
       "  <thead>\n",
       "    <tr style=\"text-align: right;\">\n",
       "      <th></th>\n",
       "      <th>price_xbox</th>\n",
       "      <th>overall</th>\n",
       "    </tr>\n",
       "    <tr>\n",
       "      <th>league</th>\n",
       "      <th></th>\n",
       "      <th></th>\n",
       "    </tr>\n",
       "  </thead>\n",
       "  <tbody>\n",
       "    <tr>\n",
       "      <th>SSE Airtricity League</th>\n",
       "      <td>362.894737</td>\n",
       "      <td>58.294416</td>\n",
       "    </tr>\n",
       "    <tr>\n",
       "      <th>K LEAGUE Classic</th>\n",
       "      <td>490.000000</td>\n",
       "      <td>64.281437</td>\n",
       "    </tr>\n",
       "    <tr>\n",
       "      <th>Meiji Yasuda J1 League</th>\n",
       "      <td>490.587045</td>\n",
       "      <td>62.884314</td>\n",
       "    </tr>\n",
       "    <tr>\n",
       "      <th>Ekstraklasa</th>\n",
       "      <td>492.245989</td>\n",
       "      <td>62.992629</td>\n",
       "    </tr>\n",
       "    <tr>\n",
       "      <th>Hyundai A-League</th>\n",
       "      <td>493.953488</td>\n",
       "      <td>62.591743</td>\n",
       "    </tr>\n",
       "    <tr>\n",
       "      <th>Eliteserien</th>\n",
       "      <td>495.412844</td>\n",
       "      <td>63.252149</td>\n",
       "    </tr>\n",
       "    <tr>\n",
       "      <th>Saudi Professional League</th>\n",
       "      <td>495.581395</td>\n",
       "      <td>63.616253</td>\n",
       "    </tr>\n",
       "    <tr>\n",
       "      <th>EFL League Two</th>\n",
       "      <td>511.517857</td>\n",
       "      <td>59.873311</td>\n",
       "    </tr>\n",
       "    <tr>\n",
       "      <th>3. Liga</th>\n",
       "      <td>518.514851</td>\n",
       "      <td>62.242424</td>\n",
       "    </tr>\n",
       "    <tr>\n",
       "      <th>Allsvenskan</th>\n",
       "      <td>520.940171</td>\n",
       "      <td>63.016438</td>\n",
       "    </tr>\n",
       "    <tr>\n",
       "      <th>Domino’s Ligue 2</th>\n",
       "      <td>524.875000</td>\n",
       "      <td>65.218894</td>\n",
       "    </tr>\n",
       "    <tr>\n",
       "      <th>Superliga</th>\n",
       "      <td>549.844237</td>\n",
       "      <td>62.711765</td>\n",
       "    </tr>\n",
       "    <tr>\n",
       "      <th>Österreichische Fußball-Bundesliga</th>\n",
       "      <td>560.344828</td>\n",
       "      <td>63.596026</td>\n",
       "    </tr>\n",
       "    <tr>\n",
       "      <th>Finnliiga</th>\n",
       "      <td>575.000000</td>\n",
       "      <td>60.666667</td>\n",
       "    </tr>\n",
       "    <tr>\n",
       "      <th>Česká Liga</th>\n",
       "      <td>587.142857</td>\n",
       "      <td>68.750000</td>\n",
       "    </tr>\n",
       "    <tr>\n",
       "      <th>EFL League One</th>\n",
       "      <td>593.086003</td>\n",
       "      <td>62.575321</td>\n",
       "    </tr>\n",
       "    <tr>\n",
       "      <th>Liga Dimayor</th>\n",
       "      <td>600.751880</td>\n",
       "      <td>65.926108</td>\n",
       "    </tr>\n",
       "    <tr>\n",
       "      <th>Major League Soccer</th>\n",
       "      <td>663.927336</td>\n",
       "      <td>66.989950</td>\n",
       "    </tr>\n",
       "    <tr>\n",
       "      <th>Scottish Premiership</th>\n",
       "      <td>669.691120</td>\n",
       "      <td>64.175627</td>\n",
       "    </tr>\n",
       "    <tr>\n",
       "      <th>Campeonato Scotiabank</th>\n",
       "      <td>671.833333</td>\n",
       "      <td>65.833333</td>\n",
       "    </tr>\n",
       "    <tr>\n",
       "      <th>Raiffeisen Super League</th>\n",
       "      <td>678.988327</td>\n",
       "      <td>63.888476</td>\n",
       "    </tr>\n",
       "    <tr>\n",
       "      <th>Bundesliga 2</th>\n",
       "      <td>679.081633</td>\n",
       "      <td>66.619802</td>\n",
       "    </tr>\n",
       "    <tr>\n",
       "      <th>LIGA Bancomer MX</th>\n",
       "      <td>720.054201</td>\n",
       "      <td>69.164456</td>\n",
       "    </tr>\n",
       "    <tr>\n",
       "      <th>South African FL</th>\n",
       "      <td>741.509434</td>\n",
       "      <td>67.111111</td>\n",
       "    </tr>\n",
       "    <tr>\n",
       "      <th>CSL</th>\n",
       "      <td>744.987775</td>\n",
       "      <td>62.199546</td>\n",
       "    </tr>\n",
       "    <tr>\n",
       "      <th>LaLiga 1 I 2 I 3</th>\n",
       "      <td>764.823529</td>\n",
       "      <td>68.947598</td>\n",
       "    </tr>\n",
       "    <tr>\n",
       "      <th>Belgium Pro League</th>\n",
       "      <td>835.351090</td>\n",
       "      <td>67.962054</td>\n",
       "    </tr>\n",
       "    <tr>\n",
       "      <th>Calcio B</th>\n",
       "      <td>882.114883</td>\n",
       "      <td>66.786571</td>\n",
       "    </tr>\n",
       "    <tr>\n",
       "      <th>Eredivisie</th>\n",
       "      <td>901.666667</td>\n",
       "      <td>67.856574</td>\n",
       "    </tr>\n",
       "    <tr>\n",
       "      <th>Süper Lig</th>\n",
       "      <td>1051.312649</td>\n",
       "      <td>70.471783</td>\n",
       "    </tr>\n",
       "    <tr>\n",
       "      <th>Liga Hrvatska</th>\n",
       "      <td>1131.481481</td>\n",
       "      <td>70.206897</td>\n",
       "    </tr>\n",
       "    <tr>\n",
       "      <th>EFL Championship</th>\n",
       "      <td>1306.821705</td>\n",
       "      <td>68.010072</td>\n",
       "    </tr>\n",
       "    <tr>\n",
       "      <th>Liga NOS</th>\n",
       "      <td>1424.031008</td>\n",
       "      <td>72.513447</td>\n",
       "    </tr>\n",
       "    <tr>\n",
       "      <th>SAF</th>\n",
       "      <td>1465.012407</td>\n",
       "      <td>69.739857</td>\n",
       "    </tr>\n",
       "    <tr>\n",
       "      <th>Ukrayina Liha</th>\n",
       "      <td>1539.843750</td>\n",
       "      <td>72.867647</td>\n",
       "    </tr>\n",
       "    <tr>\n",
       "      <th>League of Russia</th>\n",
       "      <td>1588.659794</td>\n",
       "      <td>72.893204</td>\n",
       "    </tr>\n",
       "    <tr>\n",
       "      <th>Hellas Liga</th>\n",
       "      <td>2788.659794</td>\n",
       "      <td>71.336538</td>\n",
       "    </tr>\n",
       "    <tr>\n",
       "      <th>Bundesliga</th>\n",
       "      <td>6869.425676</td>\n",
       "      <td>73.800948</td>\n",
       "    </tr>\n",
       "    <tr>\n",
       "      <th>Ligue 1 Conforama</th>\n",
       "      <td>9919.545455</td>\n",
       "      <td>72.663921</td>\n",
       "    </tr>\n",
       "    <tr>\n",
       "      <th>LaLiga Santander</th>\n",
       "      <td>21611.433447</td>\n",
       "      <td>76.745223</td>\n",
       "    </tr>\n",
       "    <tr>\n",
       "      <th>Premier League</th>\n",
       "      <td>22264.306785</td>\n",
       "      <td>75.253388</td>\n",
       "    </tr>\n",
       "    <tr>\n",
       "      <th>Serie A TIM</th>\n",
       "      <td>23827.983193</td>\n",
       "      <td>75.271318</td>\n",
       "    </tr>\n",
       "    <tr>\n",
       "      <th>Icons</th>\n",
       "      <td>948032.786885</td>\n",
       "      <td>89.036036</td>\n",
       "    </tr>\n",
       "  </tbody>\n",
       "</table>\n",
       "</div>"
      ],
      "text/plain": [
       "                                       price_xbox    overall\n",
       "league                                                      \n",
       "SSE Airtricity League               362.894737     58.294416\n",
       "K LEAGUE Classic                    490.000000     64.281437\n",
       "Meiji Yasuda J1 League              490.587045     62.884314\n",
       "Ekstraklasa                         492.245989     62.992629\n",
       "Hyundai A-League                    493.953488     62.591743\n",
       "Eliteserien                         495.412844     63.252149\n",
       "Saudi Professional League           495.581395     63.616253\n",
       "EFL League Two                      511.517857     59.873311\n",
       "3. Liga                             518.514851     62.242424\n",
       "Allsvenskan                         520.940171     63.016438\n",
       "Domino’s Ligue 2                    524.875000     65.218894\n",
       "Superliga                           549.844237     62.711765\n",
       "Österreichische Fußball-Bundesliga  560.344828     63.596026\n",
       "Finnliiga                           575.000000     60.666667\n",
       "Česká Liga                          587.142857     68.750000\n",
       "EFL League One                      593.086003     62.575321\n",
       "Liga Dimayor                        600.751880     65.926108\n",
       "Major League Soccer                 663.927336     66.989950\n",
       "Scottish Premiership                669.691120     64.175627\n",
       "Campeonato Scotiabank               671.833333     65.833333\n",
       "Raiffeisen Super League             678.988327     63.888476\n",
       "Bundesliga 2                        679.081633     66.619802\n",
       "LIGA Bancomer MX                    720.054201     69.164456\n",
       "South African FL                    741.509434     67.111111\n",
       "CSL                                 744.987775     62.199546\n",
       "LaLiga 1 I 2 I 3                    764.823529     68.947598\n",
       "Belgium Pro League                  835.351090     67.962054\n",
       "Calcio B                            882.114883     66.786571\n",
       "Eredivisie                          901.666667     67.856574\n",
       "Süper Lig                           1051.312649    70.471783\n",
       "Liga Hrvatska                       1131.481481    70.206897\n",
       "EFL Championship                    1306.821705    68.010072\n",
       "Liga NOS                            1424.031008    72.513447\n",
       "SAF                                 1465.012407    69.739857\n",
       "Ukrayina Liha                       1539.843750    72.867647\n",
       "League of Russia                    1588.659794    72.893204\n",
       "Hellas Liga                         2788.659794    71.336538\n",
       "Bundesliga                          6869.425676    73.800948\n",
       "Ligue 1 Conforama                   9919.545455    72.663921\n",
       "LaLiga Santander                    21611.433447   76.745223\n",
       "Premier League                      22264.306785   75.253388\n",
       "Serie A TIM                         23827.983193   75.271318\n",
       "Icons                               948032.786885  89.036036"
      ]
     },
     "execution_count": 20,
     "metadata": {},
     "output_type": "execute_result"
    }
   ],
   "source": [
    "leaguesMean.sort_values(by = ['price_xbox','overall'], ascending=True)"
   ]
  },
  {
   "cell_type": "code",
   "execution_count": 21,
   "metadata": {},
   "outputs": [],
   "source": [
    "league0 = df.loc[(df['league'] == 'SSE Airtricity League')]"
   ]
  },
  {
   "cell_type": "code",
   "execution_count": 22,
   "metadata": {},
   "outputs": [
    {
     "name": "stderr",
     "output_type": "stream",
     "text": [
      "/home/carloscba/anaconda3/lib/python3.7/site-packages/scipy/stats/stats.py:1713: FutureWarning: Using a non-tuple sequence for multidimensional indexing is deprecated; use `arr[tuple(seq)]` instead of `arr[seq]`. In the future this will be interpreted as an array index, `arr[np.array(seq)]`, which will result either in an error or a different result.\n",
      "  return np.add.reduce(sorted[indexer] * weights, axis=axis) / sumval\n"
     ]
    },
    {
     "data": {
      "text/plain": [
       "<matplotlib.axes._subplots.AxesSubplot at 0x7fbc2fa9fba8>"
      ]
     },
     "execution_count": 22,
     "metadata": {},
     "output_type": "execute_result"
    },
    {
     "data": {
      "image/png": "[encoded data removed]",
      "text/plain": [
       "<Figure size 1440x720 with 1 Axes>"
      ]
     },
     "metadata": {},
     "output_type": "display_data"
    }
   ],
   "source": [
    "sns.distplot(league0.overall)"
   ]
  },
  {
   "cell_type": "code",
   "execution_count": 23,
   "metadata": {},
   "outputs": [
    {
     "data": {
      "text/plain": [
       "<matplotlib.axes._subplots.AxesSubplot at 0x7fbc2fa1a908>"
      ]
     },
     "execution_count": 23,
     "metadata": {},
     "output_type": "execute_result"
    },
    {
     "data": {
      "image/png": "[encoded data removed]",
      "text/plain": [
       "<Figure size 1440x720 with 1 Axes>"
      ]
     },
     "metadata": {},
     "output_type": "display_data"
    }
   ],
   "source": [
    "sns.countplot(league0.position)"
   ]
  },
  {
   "cell_type": "code",
   "execution_count": 24,
   "metadata": {},
   "outputs": [
    {
     "data": {
      "text/plain": [
       "<matplotlib.axes._subplots.AxesSubplot at 0x7fbc2f3a2550>"
      ]
     },
     "execution_count": 24,
     "metadata": {},
     "output_type": "execute_result"
    },
    {
     "data": {
      "image/png": "[encoded data removed]",
      "text/plain": [
       "<Figure size 1440x720 with 1 Axes>"
      ]
     },
     "metadata": {},
     "output_type": "display_data"
    }
   ],
   "source": [
    "sns.countplot(league0.nationality)"
   ]
  },
  {
   "cell_type": "code",
   "execution_count": null,
   "metadata": {},
   "outputs": [],
   "source": []
  }
 ],
 "metadata": {
  "kernelspec": {
   "display_name": "Python 3",
   "language": "python",
   "name": "python3"
  },
  "language_info": {
   "codemirror_mode": {
    "name": "ipython",
    "version": 3
   },
   "file_extension": ".py",
   "mimetype": "text/x-python",
   "name": "python",
   "nbconvert_exporter": "python",
   "pygments_lexer": "ipython3",
   "version": "3.7.0"
  }
 },
 "nbformat": 4,
 "nbformat_minor": 2
}
