{
 "cells": [
  {
   "cell_type": "code",
   "execution_count": 1,
   "metadata": {},
   "outputs": [],
   "source": [
    "import numpy as np\n",
    "import pandas as pd\n",
    "import matplotlib.pylab as plt\n",
    "import seaborn as sns"
   ]
  },
  {
   "cell_type": "code",
   "execution_count": 67,
   "metadata": {},
   "outputs": [],
   "source": [
    "# La siguiente línea es para ver las imagenes dentro del notebook\n",
    "%matplotlib inline\n",
    "# Acá configuramos el tamaño de las figuras\n",
    "plt.rcParams['figure.figsize'] = (12,8)\n",
    "# Seteamos opciones de pandas sobre las columnas y su ancho\n",
    "pd.set_option('max_columns', 120)\n",
    "pd.set_option('max_colwidth', 5000)"
   ]
  },
  {
   "cell_type": "code",
   "execution_count": 2,
   "metadata": {},
   "outputs": [],
   "source": [
    "df = pd.read_csv('./dataset/datos_properati.csv', index_col=0, parse_dates=True)"
   ]
  },
  {
   "cell_type": "code",
   "execution_count": 3,
   "metadata": {},
   "outputs": [],
   "source": [
    "df_filtered = df.loc[(df.property_type != 'store')]"
   ]
  },
  {
   "cell_type": "code",
   "execution_count": 56,
   "metadata": {},
   "outputs": [],
   "source": [
    "def getPrice(data, comuna, property_type, m = 2.):\n",
    "    #busco registros que contengan los 2 precios necesarios\n",
    "    fullData = data.loc[(data.price_aprox_usd.isna()==False) & \n",
    "                        (data.price_usd_per_m2.isna()==False)]\n",
    "    #Sobre el df con datos completos busco los correspondientes a la comuna y tipo de propiedad\n",
    "    comunaData = fullData.loc[(fullData.comuna == comuna) \n",
    "                              & (fullData.property_type == property_type)\n",
    "                              , ['price_usd_per_m2']]    \n",
    "    #Basado en https://stackoverflow.com/a/16562028 limpio los outliers\n",
    "    d = np.abs(comunaData - np.median(comunaData))\n",
    "    mdev = np.median(d)\n",
    "    s = d/mdev if mdev else 0\n",
    "    outliersClear = comunaData[s<m] \n",
    "    #Devuelvo el price_usd_per_m2 limpio\n",
    "    return outliersClear.loc[(outliersClear.price_usd_per_m2.isna() == False),['price_usd_per_m2']].mean()[0]"
   ]
  },
  {
   "cell_type": "markdown",
   "metadata": {},
   "source": [
    "### Precio promedio para departamentos de la comuna 14 (Palermo)"
   ]
  },
  {
   "cell_type": "code",
   "execution_count": 57,
   "metadata": {},
   "outputs": [
    {
     "data": {
      "text/plain": [
       "3245.2353260501573"
      ]
     },
     "execution_count": 57,
     "metadata": {},
     "output_type": "execute_result"
    }
   ],
   "source": [
    "getPrice(df_filtered, 14, 'apartment')"
   ]
  },
  {
   "cell_type": "markdown",
   "metadata": {},
   "source": [
    "### Precio promedio por comunas"
   ]
  },
  {
   "cell_type": "code",
   "execution_count": 70,
   "metadata": {},
   "outputs": [
    {
     "data": {
      "text/plain": [
       "<matplotlib.axes._subplots.AxesSubplot at 0x7f24fdf5d828>"
      ]
     },
     "execution_count": 70,
     "metadata": {},
     "output_type": "execute_result"
    },
    {
     "data": {
      "image/png": "[encoded data removed]",
      "text/plain": [
       "<Figure size 864x576 with 1 Axes>"
      ]
     },
     "metadata": {
      "needs_background": "light"
     },
     "output_type": "display_data"
    }
   ],
   "source": [
    "comunas = df_filtered.comuna.unique()\n",
    "prices = []\n",
    "\n",
    "for comuna in comunas:\n",
    "    prices.append(getPrice(df_filtered, comuna, 'apartment'))\n",
    " \n",
    "priceByComuna = pd.DataFrame(data={'comuna' : comunas, 'price' : prices})\n",
    "\n",
    "sns.barplot(x=priceByComuna.comuna, y=priceByComuna.price, palette=\"deep\")"
   ]
  }
 ],
 "metadata": {
  "kernelspec": {
   "display_name": "Python 3",
   "language": "python",
   "name": "python3"
  },
  "language_info": {
   "codemirror_mode": {
    "name": "ipython",
    "version": 3
   },
   "file_extension": ".py",
   "mimetype": "text/x-python",
   "name": "python",
   "nbconvert_exporter": "python",
   "pygments_lexer": "ipython3",
   "version": "3.7.0"
  }
 },
 "nbformat": 4,
 "nbformat_minor": 2
}
